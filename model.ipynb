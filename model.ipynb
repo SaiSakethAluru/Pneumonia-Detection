{
  "nbformat": 4,
  "nbformat_minor": 0,
  "metadata": {
    "colab": {
      "name": "Deep Learning.ipynb",
      "provenance": [],
      "machine_shape": "hm",
      "authorship_tag": "ABX9TyOdR4aHVj+gOBtXVjFzhYQN",
      "include_colab_link": true
    },
    "kernelspec": {
      "name": "python3",
      "display_name": "Python 3"
    },
    "accelerator": "GPU"
  },
  "cells": [
    {
      "cell_type": "markdown",
      "metadata": {
        "id": "view-in-github",
        "colab_type": "text"
      },
      "source": [
        "<a href=\"https://colab.research.google.com/github/SaiSakethAluru/Pneumonia-Detection/blob/master/model.ipynb\" target=\"_parent\"><img src=\"https://colab.research.google.com/assets/colab-badge.svg\" alt=\"Open In Colab\"/></a>"
      ]
    },
    {
      "cell_type": "code",
      "metadata": {
        "id": "RnGY18LyYMpn",
        "colab_type": "code",
        "colab": {
          "base_uri": "https://localhost:8080/",
          "height": 126
        },
        "outputId": "122b26a2-e3b3-404b-dad3-436030778ca7"
      },
      "source": [
        "from google.colab import drive\n",
        "drive.mount('/content/drive')"
      ],
      "execution_count": null,
      "outputs": [
        {
          "output_type": "stream",
          "text": [
            "Go to this URL in a browser: https://accounts.google.com/o/oauth2/auth?client_id=947318989803-6bn6qk8qdgf4n4g3pfee6491hc0brc4i.apps.googleusercontent.com&redirect_uri=urn%3aietf%3awg%3aoauth%3a2.0%3aoob&response_type=code&scope=email%20https%3a%2f%2fwww.googleapis.com%2fauth%2fdocs.test%20https%3a%2f%2fwww.googleapis.com%2fauth%2fdrive%20https%3a%2f%2fwww.googleapis.com%2fauth%2fdrive.photos.readonly%20https%3a%2f%2fwww.googleapis.com%2fauth%2fpeopleapi.readonly\n",
            "\n",
            "Enter your authorization code:\n",
            "··········\n",
            "Mounted at /content/drive\n"
          ],
          "name": "stdout"
        }
      ]
    },
    {
      "cell_type": "code",
      "metadata": {
        "id": "YRgLpGsg_29x",
        "colab_type": "code",
        "colab": {
          "base_uri": "https://localhost:8080/",
          "height": 305
        },
        "outputId": "0066554c-cf00-47a1-cdf8-d647a05a177c"
      },
      "source": [
        "!pip install  keras==2.2.4"
      ],
      "execution_count": null,
      "outputs": [
        {
          "output_type": "stream",
          "text": [
            "Collecting keras==2.2.4\n",
            "\u001b[?25l  Downloading https://files.pythonhosted.org/packages/5e/10/aa32dad071ce52b5502266b5c659451cfd6ffcbf14e6c8c4f16c0ff5aaab/Keras-2.2.4-py2.py3-none-any.whl (312kB)\n",
            "\r\u001b[K     |█                               | 10kB 27.1MB/s eta 0:00:01\r\u001b[K     |██                              | 20kB 1.7MB/s eta 0:00:01\r\u001b[K     |███▏                            | 30kB 2.3MB/s eta 0:00:01\r\u001b[K     |████▏                           | 40kB 2.6MB/s eta 0:00:01\r\u001b[K     |█████▎                          | 51kB 2.0MB/s eta 0:00:01\r\u001b[K     |██████▎                         | 61kB 2.3MB/s eta 0:00:01\r\u001b[K     |███████▍                        | 71kB 2.5MB/s eta 0:00:01\r\u001b[K     |████████▍                       | 81kB 2.7MB/s eta 0:00:01\r\u001b[K     |█████████▍                      | 92kB 3.0MB/s eta 0:00:01\r\u001b[K     |██████████▌                     | 102kB 2.8MB/s eta 0:00:01\r\u001b[K     |███████████▌                    | 112kB 2.8MB/s eta 0:00:01\r\u001b[K     |████████████▋                   | 122kB 2.8MB/s eta 0:00:01\r\u001b[K     |█████████████▋                  | 133kB 2.8MB/s eta 0:00:01\r\u001b[K     |██████████████▊                 | 143kB 2.8MB/s eta 0:00:01\r\u001b[K     |███████████████▊                | 153kB 2.8MB/s eta 0:00:01\r\u001b[K     |████████████████▊               | 163kB 2.8MB/s eta 0:00:01\r\u001b[K     |█████████████████▉              | 174kB 2.8MB/s eta 0:00:01\r\u001b[K     |██████████████████▉             | 184kB 2.8MB/s eta 0:00:01\r\u001b[K     |████████████████████            | 194kB 2.8MB/s eta 0:00:01\r\u001b[K     |█████████████████████           | 204kB 2.8MB/s eta 0:00:01\r\u001b[K     |██████████████████████          | 215kB 2.8MB/s eta 0:00:01\r\u001b[K     |███████████████████████         | 225kB 2.8MB/s eta 0:00:01\r\u001b[K     |████████████████████████▏       | 235kB 2.8MB/s eta 0:00:01\r\u001b[K     |█████████████████████████▏      | 245kB 2.8MB/s eta 0:00:01\r\u001b[K     |██████████████████████████▏     | 256kB 2.8MB/s eta 0:00:01\r\u001b[K     |███████████████████████████▎    | 266kB 2.8MB/s eta 0:00:01\r\u001b[K     |████████████████████████████▎   | 276kB 2.8MB/s eta 0:00:01\r\u001b[K     |█████████████████████████████▍  | 286kB 2.8MB/s eta 0:00:01\r\u001b[K     |██████████████████████████████▍ | 296kB 2.8MB/s eta 0:00:01\r\u001b[K     |███████████████████████████████▌| 307kB 2.8MB/s eta 0:00:01\r\u001b[K     |████████████████████████████████| 317kB 2.8MB/s \n",
            "\u001b[?25hRequirement already satisfied: pyyaml in /usr/local/lib/python3.6/dist-packages (from keras==2.2.4) (3.13)\n",
            "Requirement already satisfied: h5py in /usr/local/lib/python3.6/dist-packages (from keras==2.2.4) (2.10.0)\n",
            "Requirement already satisfied: keras-applications>=1.0.6 in /usr/local/lib/python3.6/dist-packages (from keras==2.2.4) (1.0.8)\n",
            "Requirement already satisfied: numpy>=1.9.1 in /usr/local/lib/python3.6/dist-packages (from keras==2.2.4) (1.18.3)\n",
            "Requirement already satisfied: scipy>=0.14 in /usr/local/lib/python3.6/dist-packages (from keras==2.2.4) (1.4.1)\n",
            "Requirement already satisfied: six>=1.9.0 in /usr/local/lib/python3.6/dist-packages (from keras==2.2.4) (1.12.0)\n",
            "Requirement already satisfied: keras-preprocessing>=1.0.5 in /usr/local/lib/python3.6/dist-packages (from keras==2.2.4) (1.1.0)\n",
            "Installing collected packages: keras\n",
            "  Found existing installation: Keras 2.3.1\n",
            "    Uninstalling Keras-2.3.1:\n",
            "      Successfully uninstalled Keras-2.3.1\n",
            "Successfully installed keras-2.2.4\n"
          ],
          "name": "stdout"
        }
      ]
    },
    {
      "cell_type": "code",
      "metadata": {
        "id": "yLB8xUCbHc6-",
        "colab_type": "code",
        "colab": {
          "base_uri": "https://localhost:8080/",
          "height": 35
        },
        "outputId": "f3161a1a-f785-4263-ef1d-51e25bbfb3ed"
      },
      "source": [
        "%tensorflow_version 1.x"
      ],
      "execution_count": null,
      "outputs": [
        {
          "output_type": "stream",
          "text": [
            "TensorFlow 1.x selected.\n"
          ],
          "name": "stdout"
        }
      ]
    },
    {
      "cell_type": "code",
      "metadata": {
        "id": "DjfwenoKYdTF",
        "colab_type": "code",
        "colab": {}
      },
      "source": [
        "import pandas as pd\n",
        "import cv2                 \n",
        "import numpy as np         \n",
        "import os                  \n",
        "from random import shuffle\n",
        "from tqdm import tqdm  \n",
        "import scipy\n",
        "import skimage\n",
        "from skimage.transform import resize\n",
        "import matplotlib.pyplot as plt"
      ],
      "execution_count": null,
      "outputs": []
    },
    {
      "cell_type": "code",
      "metadata": {
        "id": "nEyvkd5HYj1F",
        "colab_type": "code",
        "colab": {}
      },
      "source": [
        "TRAIN_DIR = '/content/drive/My Drive/Deep Learning Term Project/ChestXRay2017/chest_xray/train/'\n",
        "TEST_DIR = '/content/drive/My Drive/Deep Learning Term Project/ChestXRay2017/chest_xray/test/'\n",
        "PATH = '/content/drive/My Drive/Deep Learning Term Project/'"
      ],
      "execution_count": null,
      "outputs": []
    },
    {
      "cell_type": "code",
      "metadata": {
        "id": "UCw8xj9P3sNz",
        "colab_type": "code",
        "colab": {}
      },
      "source": [
        "IMAGE_HEIGHT = 150\n",
        "IMAGE_WIDTH = 150\n",
        "INPUT_CHANNELS = 3"
      ],
      "execution_count": null,
      "outputs": []
    },
    {
      "cell_type": "code",
      "metadata": {
        "id": "SVXkBnloODvL",
        "colab_type": "code",
        "colab": {}
      },
      "source": [
        "# import glob\n",
        "# for file in glob.glob(TRAIN_DIR+'PNEUMONIA/*(*'):\n",
        "#   os.remove(file)\n",
        "# for file in glob.glob(TRAIN_DIR+'NORMAL/*(*'):\n",
        "#   os.remove(file)\n",
        "# for file in glob.glob(TEST_DIR+'PNEUMONIA/*(*'):\n",
        "#   os.remove(file)\n",
        "# for file in glob.glob(TEST_DIR+'NORMAL/*(*'):\n",
        "#   os.remove(file)"
      ],
      "execution_count": null,
      "outputs": []
    },
    {
      "cell_type": "code",
      "metadata": {
        "id": "LfQQnS9JPoE4",
        "colab_type": "code",
        "colab": {
          "base_uri": "https://localhost:8080/",
          "height": 88
        },
        "outputId": "12cc1a60-1b93-4dd8-d844-2df35739a1f5"
      },
      "source": [
        "print(len(os.listdir(os.path.join(TRAIN_DIR,'PNEUMONIA'))))\n",
        "print(len(os.listdir(os.path.join(TRAIN_DIR,'NORMAL'))))\n",
        "print(len(os.listdir(os.path.join(TEST_DIR,'PNEUMONIA'))))\n",
        "print(len(os.listdir(os.path.join(TEST_DIR,'NORMAL'))))"
      ],
      "execution_count": null,
      "outputs": [
        {
          "output_type": "stream",
          "text": [
            "3883\n",
            "1349\n",
            "390\n",
            "234\n"
          ],
          "name": "stdout"
        }
      ]
    },
    {
      "cell_type": "code",
      "metadata": {
        "id": "U6mJ5zWrYf-R",
        "colab_type": "code",
        "colab": {}
      },
      "source": [
        "def get_data(Dir):\n",
        "    X = []\n",
        "    y = []\n",
        "    for nextDir in os.listdir(Dir):\n",
        "        if not nextDir.startswith('.'):\n",
        "            if nextDir in ['NORMAL']:\n",
        "                label = 0\n",
        "            elif nextDir in ['PNEUMONIA']:\n",
        "                label = 1\n",
        "            else:\n",
        "                label = 2\n",
        "                \n",
        "            temp = Dir + nextDir\n",
        "                \n",
        "            for file in tqdm(os.listdir(temp)):\n",
        "                img = cv2.imread(temp + '/' + file)\n",
        "                if img is not None:\n",
        "                    img = skimage.transform.resize(img, (IMAGE_HEIGHT, IMAGE_WIDTH, INPUT_CHANNELS),anti_aliasing=True)\n",
        "                    img = np.asarray(img)\n",
        "                    X.append(img)\n",
        "                    y.append(label)\n",
        "                    \n",
        "    X = np.asarray(X)\n",
        "    y = np.asarray(y)\n",
        "    return X,y\n"
      ],
      "execution_count": null,
      "outputs": []
    },
    {
      "cell_type": "code",
      "metadata": {
        "id": "Qaa9giAfLHa9",
        "colab_type": "code",
        "colab": {}
      },
      "source": [
        "# X_train, y_train = get_data(TRAIN_DIR)"
      ],
      "execution_count": null,
      "outputs": []
    },
    {
      "cell_type": "code",
      "metadata": {
        "id": "tWbUqLyqY8Hx",
        "colab_type": "code",
        "colab": {}
      },
      "source": [
        "# X_train = np.load(os.path.join(PATH,'X_train.npy'))\n",
        "y_train = np.load(os.path.join(PATH,'y_train.npy'))\n",
        "# X_test = np.load(os.path.join(PATH,'X_test.npy'))\n",
        "y_test = np.load(os.path.join(PATH,'y_test.npy'))\n",
        "# X_val = np.load(os.path.join(PATH,'X_val.npy'))\n",
        "y_val = np.load(os.path.join(PATH,'y_val.npy'))"
      ],
      "execution_count": null,
      "outputs": []
    },
    {
      "cell_type": "code",
      "metadata": {
        "id": "-Qy9Atg5I0Fb",
        "colab_type": "code",
        "colab": {
          "base_uri": "https://localhost:8080/",
          "height": 35
        },
        "outputId": "0ebd5000-32f1-421f-c68e-5502224d7ddd"
      },
      "source": [
        "np.unique(y_val[:,1],return_counts=True)"
      ],
      "execution_count": null,
      "outputs": [
        {
          "output_type": "execute_result",
          "data": {
            "text/plain": [
              "(array([0., 1.], dtype=float32), array([270, 777]))"
            ]
          },
          "metadata": {
            "tags": []
          },
          "execution_count": 9
        }
      ]
    },
    {
      "cell_type": "code",
      "metadata": {
        "id": "uAoZJ5oxY8wm",
        "colab_type": "code",
        "colab": {}
      },
      "source": [
        "# X_test , y_test = get_data(TEST_DIR)"
      ],
      "execution_count": null,
      "outputs": []
    },
    {
      "cell_type": "code",
      "metadata": {
        "id": "IFum5eFDQu3M",
        "colab_type": "code",
        "colab": {}
      },
      "source": [
        "# np.save('/content/drive/My Drive/Deep Learning Term Project/X_train.npy',X_train)\n",
        "# np.save('/content/drive/My Drive/Deep Learning Term Project/y_train.npy',y_train)\n",
        "# np.save('/content/drive/My Drive/Deep Learning Term Project/X_test.npy',X_test)\n",
        "# np.save('/content/drive/My Drive/Deep Learning Term Project/y_test.npy',y_test)"
      ],
      "execution_count": null,
      "outputs": []
    },
    {
      "cell_type": "code",
      "metadata": {
        "id": "jIp3Q7UVLN7U",
        "colab_type": "code",
        "colab": {
          "base_uri": "https://localhost:8080/",
          "height": 35
        },
        "outputId": "ca0b8e49-67d0-4c70-c98f-102d92f9d70b"
      },
      "source": [
        "y_test.shape"
      ],
      "execution_count": null,
      "outputs": [
        {
          "output_type": "execute_result",
          "data": {
            "text/plain": [
              "(624, 2)"
            ]
          },
          "metadata": {
            "tags": []
          },
          "execution_count": 45
        }
      ]
    },
    {
      "cell_type": "code",
      "metadata": {
        "id": "9L9ffKECY_b5",
        "colab_type": "code",
        "colab": {}
      },
      "source": [
        "from keras.utils.np_utils import to_categorical\n",
        "\n",
        "# y_train = to_categorical(y_train, 2)\n",
        "y_test = to_categorical(y_test, 2)"
      ],
      "execution_count": null,
      "outputs": []
    },
    {
      "cell_type": "code",
      "metadata": {
        "id": "rHQM_Mc-ZBNi",
        "colab_type": "code",
        "colab": {}
      },
      "source": [
        "Pimages = os.listdir(TRAIN_DIR + \"PNEUMONIA\")\n",
        "Nimages = os.listdir(TRAIN_DIR + \"NORMAL\")"
      ],
      "execution_count": null,
      "outputs": []
    },
    {
      "cell_type": "code",
      "metadata": {
        "id": "IHeewTF4ZCwL",
        "colab_type": "code",
        "colab": {}
      },
      "source": [
        "def plotter(i):\n",
        "    imagep1 = cv2.imread(\"{0}{1}{2}\".format(TRAIN_DIR, \"PNEUMONIA/\", Pimages[i]))\n",
        "    imagep1 = skimage.transform.resize(imagep1, (IMAGE_HEIGHT, IMAGE_WIDTH, INPUT_CHANNELS) , mode = 'reflect',anti_aliasing=True)\n",
        "    imagen1 = cv2.imread(\"{0}{1}{2}\".format(TRAIN_DIR, \"NORMAL/\", Nimages[i]))\n",
        "    imagen1 = skimage.transform.resize(imagen1, (IMAGE_HEIGHT, IMAGE_WIDTH, INPUT_CHANNELS), mode = 'reflect',anti_aliasing=True)\n",
        "    pair = np.concatenate((imagen1, imagep1), axis=1)\n",
        "    print(\"No Pneumonia Vs Pneumonia\")\n",
        "    print(\"---------------------------------------------------------------------------------------------------------------\")\n",
        "    plt.figure(figsize=(5,5))\n",
        "    plt.imshow(pair)\n",
        "    plt.show()"
      ],
      "execution_count": null,
      "outputs": []
    },
    {
      "cell_type": "code",
      "metadata": {
        "id": "d9piFRSHZKBW",
        "colab_type": "code",
        "colab": {}
      },
      "source": [
        "for i in range(4,9):\n",
        "    plotter(i)\n"
      ],
      "execution_count": null,
      "outputs": []
    },
    {
      "cell_type": "code",
      "metadata": {
        "id": "Reu-DgX1ZKj7",
        "colab_type": "code",
        "colab": {}
      },
      "source": [
        "import seaborn as sns\n",
        "count = y_train.sum(axis = 0)\n",
        "sns.countplot(x = count)\n",
        "plt.title(\"Plot of the number of samples of each class in the training set\")"
      ],
      "execution_count": null,
      "outputs": []
    },
    {
      "cell_type": "code",
      "metadata": {
        "id": "7xNbDu6WZg1q",
        "colab_type": "code",
        "colab": {}
      },
      "source": [
        "count = y_test.sum(axis = 0)\n",
        "sns.countplot(x = count)\n",
        "plt.title(\"Plot of the number of samples of each class in the test set\")"
      ],
      "execution_count": null,
      "outputs": []
    },
    {
      "cell_type": "code",
      "metadata": {
        "id": "6dz9gxwFZjRn",
        "colab_type": "code",
        "colab": {
          "base_uri": "https://localhost:8080/",
          "height": 35
        },
        "outputId": "deb93735-924b-460f-e7b0-5f5909dc6ea6"
      },
      "source": [
        "from keras.callbacks import ReduceLROnPlateau , ModelCheckpoint\n",
        "lr_reduce = ReduceLROnPlateau(monitor='val_acc', factor=0.1, min_delta=0.0001, patience=1, verbose=1)"
      ],
      "execution_count": null,
      "outputs": [
        {
          "output_type": "stream",
          "text": [
            "Using TensorFlow backend.\n"
          ],
          "name": "stderr"
        }
      ]
    },
    {
      "cell_type": "code",
      "metadata": {
        "id": "D1ccs5PZZlcI",
        "colab_type": "code",
        "colab": {}
      },
      "source": [
        "filepath=\"weights_batchnorm_1.hdf5\"\n",
        "checkpoint = ModelCheckpoint(filepath, monitor='val_acc', verbose=1, save_best_only=True, mode='max')"
      ],
      "execution_count": null,
      "outputs": []
    },
    {
      "cell_type": "code",
      "metadata": {
        "id": "ta6_gFwl_tzq",
        "colab_type": "code",
        "colab": {
          "base_uri": "https://localhost:8080/",
          "height": 35
        },
        "outputId": "c08863a1-de79-4fba-cd5f-2f9d78042d89"
      },
      "source": [
        "import keras\n",
        "print(keras.__version__)"
      ],
      "execution_count": null,
      "outputs": [
        {
          "output_type": "stream",
          "text": [
            "2.2.4\n"
          ],
          "name": "stdout"
        }
      ]
    },
    {
      "cell_type": "code",
      "metadata": {
        "id": "jGbVphANZnL_",
        "colab_type": "code",
        "colab": {}
      },
      "source": [
        "from keras.models import Sequential\n",
        "from keras.layers import Dense , Activation\n",
        "from keras.layers import Dropout\n",
        "from keras.layers import Flatten\n",
        "from keras.constraints import maxnorm\n",
        "from keras.optimizers import SGD , RMSprop\n",
        "from keras.layers import Conv2D , BatchNormalization\n",
        "from keras.layers import MaxPooling2D\n",
        "from keras.utils import np_utils\n",
        "from keras import backend as K\n",
        "K.set_image_dim_ordering('th')\n",
        "from sklearn.model_selection import GridSearchCV\n",
        "from keras.wrappers.scikit_learn import KerasClassifier"
      ],
      "execution_count": null,
      "outputs": []
    },
    {
      "cell_type": "code",
      "metadata": {
        "id": "gM1qlaMqrdwS",
        "colab_type": "code",
        "colab": {
          "base_uri": "https://localhost:8080/",
          "height": 35
        },
        "outputId": "26415e56-3875-4ae7-e4a8-b417ecf670e2"
      },
      "source": [
        "X_train.shape"
      ],
      "execution_count": null,
      "outputs": [
        {
          "output_type": "execute_result",
          "data": {
            "text/plain": [
              "(4185, 150, 150, 3)"
            ]
          },
          "metadata": {
            "tags": []
          },
          "execution_count": 12
        }
      ]
    },
    {
      "cell_type": "code",
      "metadata": {
        "id": "cygue2IlbGF4",
        "colab_type": "code",
        "colab": {}
      },
      "source": [
        "X_train=X_train.reshape(-1,INPUT_CHANNELS,IMAGE_WIDTH,IMAGE_HEIGHT)\n",
        "X_val = X_val.reshape(-1,INPUT_CHANNELS,IMAGE_WIDTH,IMAGE_HEIGHT)\n",
        "X_test=X_test.reshape(-1,INPUT_CHANNELS,IMAGE_WIDTH,IMAGE_HEIGHT)"
      ],
      "execution_count": null,
      "outputs": []
    },
    {
      "cell_type": "code",
      "metadata": {
        "id": "zI_EC9PrbLB-",
        "colab_type": "code",
        "colab": {}
      },
      "source": [
        "X_train = X_train/255.0\n",
        "X_test = X_test/255.0"
      ],
      "execution_count": null,
      "outputs": []
    },
    {
      "cell_type": "code",
      "metadata": {
        "id": "s7_rQhYkwyW7",
        "colab_type": "code",
        "colab": {}
      },
      "source": [
        "from sklearn.model_selection import StratifiedShuffleSplit\n",
        "\n",
        "sss = StratifiedShuffleSplit(n_splits = 1,test_size = 0.2,random_state = 0)\n",
        "temp = sss.split(X_train,y_train)\n",
        "train_ind,val_ind = list(temp)[0]"
      ],
      "execution_count": null,
      "outputs": []
    },
    {
      "cell_type": "code",
      "metadata": {
        "id": "WnOgHX4HM72D",
        "colab_type": "code",
        "colab": {
          "base_uri": "https://localhost:8080/",
          "height": 35
        },
        "outputId": "e2f82e87-4c5a-4381-a6c2-69f256f494e8"
      },
      "source": [
        "y_test.shape"
      ],
      "execution_count": null,
      "outputs": [
        {
          "output_type": "execute_result",
          "data": {
            "text/plain": [
              "(624, 2)"
            ]
          },
          "metadata": {
            "tags": []
          },
          "execution_count": 35
        }
      ]
    },
    {
      "cell_type": "code",
      "metadata": {
        "id": "sArytp1SMDls",
        "colab_type": "code",
        "colab": {
          "base_uri": "https://localhost:8080/",
          "height": 88
        },
        "outputId": "ca9426af-c8ea-4bcc-df3d-b26a1f27bcb3"
      },
      "source": [
        "train_x = X_train[train_ind]\n",
        "train_y = y_train[train_ind]\n",
        "val_x = X_train[val_ind]\n",
        "val_y = y_train[val_ind]\n",
        "\n",
        "print(train_x.shape)\n",
        "print(train_y.shape)\n",
        "print(val_x.shape)\n",
        "print(val_y.shape)"
      ],
      "execution_count": null,
      "outputs": [
        {
          "output_type": "stream",
          "text": [
            "(4185, 150, 150, 3)\n",
            "(4185, 2)\n",
            "(1047, 150, 150, 3)\n",
            "(1047, 2)\n"
          ],
          "name": "stdout"
        }
      ]
    },
    {
      "cell_type": "code",
      "metadata": {
        "id": "1f-jx29KNOmW",
        "colab_type": "code",
        "colab": {}
      },
      "source": [
        "np.save('/content/drive/My Drive/Deep Learning Term Project/X_train.npy',train_x)\n",
        "np.save('/content/drive/My Drive/Deep Learning Term Project/y_train.npy',train_y)\n",
        "np.save('/content/drive/My Drive/Deep Learning Term Project/X_val.npy',val_x)\n",
        "np.save('/content/drive/My Drive/Deep Learning Term Project/y_val.npy',val_y)"
      ],
      "execution_count": null,
      "outputs": []
    },
    {
      "cell_type": "code",
      "metadata": {
        "id": "vgxk5vVWbO6d",
        "colab_type": "code",
        "colab": {}
      },
      "source": [
        "def swish_activation(x):\n",
        "    return (K.sigmoid(x) * x)"
      ],
      "execution_count": null,
      "outputs": []
    },
    {
      "cell_type": "code",
      "metadata": {
        "id": "23P9DEiZchNt",
        "colab_type": "code",
        "colab": {}
      },
      "source": [
        "import keras.backend as K\n",
        "from keras.models import Model, Sequential\n",
        "from keras.layers import Input, Dense, Flatten, Dropout, BatchNormalization\n",
        "from keras.layers import Conv2D, SeparableConv2D, MaxPool2D, LeakyReLU, Activation\n",
        "from keras.optimizers import Adam\n",
        "from keras.preprocessing.image import ImageDataGenerator\n",
        "from keras.callbacks import ModelCheckpoint, ReduceLROnPlateau, EarlyStopping\n",
        "import tensorflow as tf"
      ],
      "execution_count": null,
      "outputs": []
    },
    {
      "cell_type": "code",
      "metadata": {
        "id": "DLdpY9ZQcQT5",
        "colab_type": "code",
        "colab": {
          "base_uri": "https://localhost:8080/",
          "height": 55
        },
        "outputId": "916391ac-9d26-45b5-ca06-73029610e1ca"
      },
      "source": [
        "# inputs = Input(shape=(3,IMAGE_HEIGHT,IMAGE_WIDTH))\n",
        "\n",
        "# # First conv block\n",
        "# x = Conv2D(filters=16, kernel_size=(3, 3), activation='relu', padding='same')(inputs)\n",
        "# x = Conv2D(filters=16, kernel_size=(3, 3), activation='relu', padding='same')(x)\n",
        "# x = MaxPool2D(pool_size=(2, 2))(x)\n",
        "\n",
        "# # Second conv block\n",
        "# x = SeparableConv2D(filters=32, kernel_size=(3, 3), activation='relu', padding='same')(x)\n",
        "# x = SeparableConv2D(filters=32, kernel_size=(3, 3), activation='relu', padding='same')(x)\n",
        "# x = BatchNormalization()(x)\n",
        "# x = MaxPool2D(pool_size=(2, 2))(x)\n",
        "\n",
        "# # Third conv block\n",
        "# x = SeparableConv2D(filters=64, kernel_size=(3, 3), activation='relu', padding='same')(x)\n",
        "# x = SeparableConv2D(filters=64, kernel_size=(3, 3), activation='relu', padding='same')(x)\n",
        "# x = BatchNormalization()(x)\n",
        "# x = MaxPool2D(pool_size=(2, 2))(x)\n",
        "\n",
        "# # Fourth conv block\n",
        "# x = SeparableConv2D(filters=128, kernel_size=(3, 3), activation='relu', padding='same')(x)\n",
        "# x = SeparableConv2D(filters=128, kernel_size=(3, 3), activation='relu', padding='same')(x)\n",
        "# x = BatchNormalization()(x)\n",
        "# x = MaxPool2D(pool_size=(2, 2))(x)\n",
        "# x = Dropout(rate=0.2)(x)\n",
        "\n",
        "# # Fifth conv block\n",
        "# x = SeparableConv2D(filters=256, kernel_size=(3, 3), activation='relu', padding='same')(x)\n",
        "# x = SeparableConv2D(filters=256, kernel_size=(3, 3), activation='relu', padding='same')(x)\n",
        "# x = BatchNormalization()(x)\n",
        "# x = MaxPool2D(pool_size=(2, 2))(x)\n",
        "# x = Dropout(rate=0.2)(x)\n",
        "\n",
        "# # FC layer\n",
        "# x = Flatten()(x)\n",
        "# x = Dense(units=512, activation='relu')(x)\n",
        "# x = Dropout(rate=0.7)(x)\n",
        "# x = Dense(units=128, activation='relu')(x)\n",
        "# x = Dropout(rate=0.5)(x)\n",
        "# x = Dense(units=64, activation='relu')(x)\n",
        "# x = Dropout(rate=0.3)(x)\n",
        "\n",
        "# # Output layer\n",
        "# output = Dense(units=2, activation='softmax')(x)\n",
        "# model = Model(inputs=inputs, outputs=output)\n",
        "# # Creating model and compiling\n",
        "# model.compile(optimizer='adam', loss='binary_crossentropy', metrics=['accuracy'])"
      ],
      "execution_count": null,
      "outputs": [
        {
          "output_type": "stream",
          "text": [
            "WARNING:tensorflow:Large dropout rate: 0.7 (>0.5). In TensorFlow 2.x, dropout() uses dropout rate instead of keep_prob. Please ensure that this is intended.\n"
          ],
          "name": "stdout"
        }
      ]
    },
    {
      "cell_type": "code",
      "metadata": {
        "id": "fmIR2ejbmIQ7",
        "colab_type": "code",
        "colab": {
          "base_uri": "https://localhost:8080/",
          "height": 1000
        },
        "outputId": "8acf8424-64fd-455f-e273-ad9bc7e9d8de"
      },
      "source": [
        "model.summary()"
      ],
      "execution_count": null,
      "outputs": [
        {
          "output_type": "stream",
          "text": [
            "_________________________________________________________________\n",
            "Layer (type)                 Output Shape              Param #   \n",
            "=================================================================\n",
            "input_2 (InputLayer)         (None, 3, 150, 150)       0         \n",
            "_________________________________________________________________\n",
            "conv2d_3 (Conv2D)            (None, 16, 150, 150)      448       \n",
            "_________________________________________________________________\n",
            "conv2d_4 (Conv2D)            (None, 16, 150, 150)      2320      \n",
            "_________________________________________________________________\n",
            "max_pooling2d_3 (MaxPooling2 (None, 16, 75, 75)        0         \n",
            "_________________________________________________________________\n",
            "separable_conv2d_3 (Separabl (None, 32, 75, 75)        688       \n",
            "_________________________________________________________________\n",
            "separable_conv2d_4 (Separabl (None, 32, 75, 75)        1344      \n",
            "_________________________________________________________________\n",
            "batch_normalization_2 (Batch (None, 32, 75, 75)        300       \n",
            "_________________________________________________________________\n",
            "max_pooling2d_4 (MaxPooling2 (None, 32, 37, 37)        0         \n",
            "_________________________________________________________________\n",
            "separable_conv2d_5 (Separabl (None, 64, 37, 37)        2400      \n",
            "_________________________________________________________________\n",
            "separable_conv2d_6 (Separabl (None, 64, 37, 37)        4736      \n",
            "_________________________________________________________________\n",
            "batch_normalization_3 (Batch (None, 64, 37, 37)        148       \n",
            "_________________________________________________________________\n",
            "max_pooling2d_5 (MaxPooling2 (None, 64, 18, 18)        0         \n",
            "_________________________________________________________________\n",
            "separable_conv2d_7 (Separabl (None, 128, 18, 18)       8896      \n",
            "_________________________________________________________________\n",
            "separable_conv2d_8 (Separabl (None, 128, 18, 18)       17664     \n",
            "_________________________________________________________________\n",
            "batch_normalization_4 (Batch (None, 128, 18, 18)       72        \n",
            "_________________________________________________________________\n",
            "max_pooling2d_6 (MaxPooling2 (None, 128, 9, 9)         0         \n",
            "_________________________________________________________________\n",
            "dropout_1 (Dropout)          (None, 128, 9, 9)         0         \n",
            "_________________________________________________________________\n",
            "separable_conv2d_9 (Separabl (None, 256, 9, 9)         34176     \n",
            "_________________________________________________________________\n",
            "separable_conv2d_10 (Separab (None, 256, 9, 9)         68096     \n",
            "_________________________________________________________________\n",
            "batch_normalization_5 (Batch (None, 256, 9, 9)         36        \n",
            "_________________________________________________________________\n",
            "max_pooling2d_7 (MaxPooling2 (None, 256, 4, 4)         0         \n",
            "_________________________________________________________________\n",
            "dropout_2 (Dropout)          (None, 256, 4, 4)         0         \n",
            "_________________________________________________________________\n",
            "flatten_1 (Flatten)          (None, 4096)              0         \n",
            "_________________________________________________________________\n",
            "dense_1 (Dense)              (None, 512)               2097664   \n",
            "_________________________________________________________________\n",
            "dropout_3 (Dropout)          (None, 512)               0         \n",
            "_________________________________________________________________\n",
            "dense_2 (Dense)              (None, 128)               65664     \n",
            "_________________________________________________________________\n",
            "dropout_4 (Dropout)          (None, 128)               0         \n",
            "_________________________________________________________________\n",
            "dense_3 (Dense)              (None, 64)                8256      \n",
            "_________________________________________________________________\n",
            "dropout_5 (Dropout)          (None, 64)                0         \n",
            "_________________________________________________________________\n",
            "dense_4 (Dense)              (None, 2)                 130       \n",
            "=================================================================\n",
            "Total params: 2,313,038\n",
            "Trainable params: 2,312,760\n",
            "Non-trainable params: 278\n",
            "_________________________________________________________________\n"
          ],
          "name": "stdout"
        }
      ]
    },
    {
      "cell_type": "code",
      "metadata": {
        "id": "M6q1FgtlbTJg",
        "colab_type": "code",
        "colab": {
          "base_uri": "https://localhost:8080/",
          "height": 1000
        },
        "outputId": "cd9c6cf2-1f1e-4ead-d7a4-857643f0066d"
      },
      "source": [
        "## Model architecture\n",
        "model = Sequential()\n",
        "model.add(Conv2D(16, (3, 3), activation='relu', padding=\"same\", input_shape=(INPUT_CHANNELS,IMAGE_WIDTH,IMAGE_HEIGHT)))\n",
        "model.add(Conv2D(16, (3, 3), padding=\"same\", activation='relu'))\n",
        "model.add(MaxPooling2D(pool_size=(2, 2)))\n",
        "\n",
        "model.add(Conv2D(32, (3, 3), activation='relu', padding=\"same\"))\n",
        "model.add(Conv2D(32, (3, 3), padding=\"same\", activation='relu'))\n",
        "model.add(MaxPooling2D(pool_size=(2, 2)))\n",
        "\n",
        "model.add(Conv2D(64, (3, 3), activation='relu', padding=\"same\"))\n",
        "model.add(Conv2D(64, (3, 3), padding=\"same\", activation='relu'))\n",
        "model.add(BatchNormalization())\n",
        "model.add(MaxPooling2D(pool_size=(2, 2)))\n",
        "\n",
        "model.add(Conv2D(128, (3, 3), activation='relu', padding=\"same\"))\n",
        "model.add(Conv2D(128, (3, 3), padding=\"same\", activation='relu'))\n",
        "model.add(BatchNormalization())\n",
        "model.add(MaxPooling2D(pool_size=(2, 2)))\n",
        "\n",
        "model.add(Conv2D(256, (3, 3), activation='relu', padding=\"same\"))\n",
        "model.add(Conv2D(256, (3, 3), padding=\"same\", activation='relu'))\n",
        "model.add(BatchNormalization())\n",
        "model.add(MaxPooling2D(pool_size=(2, 2)))\n",
        "\n",
        "model.add(Flatten())\n",
        "\n",
        "model.add(Dense(512,activation='relu'))\n",
        "model.add(Dropout(rate=0.5))\n",
        "model.add(Dense(128,activation='relu'))\n",
        "model.add(Dropout(rate=0.5))\n",
        "model.add(Dense(64,activation='relu'))\n",
        "model.add(Dropout(rate=0.3))\n",
        "\n",
        "model.add(Dense(2,activation='softmax'))\n",
        "\n",
        "model.compile(loss='binary_crossentropy',\n",
        "                  optimizer='adam',\n",
        "                  metrics=['accuracy'])\n",
        "\n",
        "print(model.summary())"
      ],
      "execution_count": null,
      "outputs": [
        {
          "output_type": "stream",
          "text": [
            "_________________________________________________________________\n",
            "Layer (type)                 Output Shape              Param #   \n",
            "=================================================================\n",
            "conv2d_15 (Conv2D)           (None, 16, 150, 150)      448       \n",
            "_________________________________________________________________\n",
            "conv2d_16 (Conv2D)           (None, 16, 150, 150)      2320      \n",
            "_________________________________________________________________\n",
            "max_pooling2d_30 (MaxPooling (None, 16, 75, 75)        0         \n",
            "_________________________________________________________________\n",
            "conv2d_17 (Conv2D)           (None, 32, 75, 75)        4640      \n",
            "_________________________________________________________________\n",
            "conv2d_18 (Conv2D)           (None, 32, 75, 75)        9248      \n",
            "_________________________________________________________________\n",
            "max_pooling2d_31 (MaxPooling (None, 32, 37, 37)        0         \n",
            "_________________________________________________________________\n",
            "conv2d_19 (Conv2D)           (None, 64, 37, 37)        18496     \n",
            "_________________________________________________________________\n",
            "conv2d_20 (Conv2D)           (None, 64, 37, 37)        36928     \n",
            "_________________________________________________________________\n",
            "batch_normalization_20 (Batc (None, 64, 37, 37)        148       \n",
            "_________________________________________________________________\n",
            "max_pooling2d_32 (MaxPooling (None, 64, 18, 18)        0         \n",
            "_________________________________________________________________\n",
            "conv2d_21 (Conv2D)           (None, 128, 18, 18)       73856     \n",
            "_________________________________________________________________\n",
            "conv2d_22 (Conv2D)           (None, 128, 18, 18)       147584    \n",
            "_________________________________________________________________\n",
            "batch_normalization_21 (Batc (None, 128, 18, 18)       72        \n",
            "_________________________________________________________________\n",
            "max_pooling2d_33 (MaxPooling (None, 128, 9, 9)         0         \n",
            "_________________________________________________________________\n",
            "conv2d_23 (Conv2D)           (None, 256, 9, 9)         295168    \n",
            "_________________________________________________________________\n",
            "conv2d_24 (Conv2D)           (None, 256, 9, 9)         590080    \n",
            "_________________________________________________________________\n",
            "batch_normalization_22 (Batc (None, 256, 9, 9)         36        \n",
            "_________________________________________________________________\n",
            "max_pooling2d_34 (MaxPooling (None, 256, 4, 4)         0         \n",
            "_________________________________________________________________\n",
            "flatten_6 (Flatten)          (None, 4096)              0         \n",
            "_________________________________________________________________\n",
            "dense_21 (Dense)             (None, 512)               2097664   \n",
            "_________________________________________________________________\n",
            "dropout_22 (Dropout)         (None, 512)               0         \n",
            "_________________________________________________________________\n",
            "dense_22 (Dense)             (None, 128)               65664     \n",
            "_________________________________________________________________\n",
            "dropout_23 (Dropout)         (None, 128)               0         \n",
            "_________________________________________________________________\n",
            "dense_23 (Dense)             (None, 64)                8256      \n",
            "_________________________________________________________________\n",
            "dropout_24 (Dropout)         (None, 64)                0         \n",
            "_________________________________________________________________\n",
            "dense_24 (Dense)             (None, 2)                 130       \n",
            "=================================================================\n",
            "Total params: 3,350,738\n",
            "Trainable params: 3,350,610\n",
            "Non-trainable params: 128\n",
            "_________________________________________________________________\n",
            "None\n"
          ],
          "name": "stdout"
        }
      ]
    },
    {
      "cell_type": "code",
      "metadata": {
        "id": "3kMkfbUWbS9O",
        "colab_type": "code",
        "colab": {
          "base_uri": "https://localhost:8080/",
          "height": 35
        },
        "outputId": "7b641c9d-2ec1-4e79-a95d-6aa1a17cbe75"
      },
      "source": [
        "batch_size = 1\n",
        "epochs = 10\n",
        "\n",
        "import gc\n",
        "gc.collect()"
      ],
      "execution_count": null,
      "outputs": [
        {
          "output_type": "execute_result",
          "data": {
            "text/plain": [
              "2015"
            ]
          },
          "metadata": {
            "tags": []
          },
          "execution_count": 31
        }
      ]
    },
    {
      "cell_type": "code",
      "metadata": {
        "id": "or95-duDmpRy",
        "colab_type": "code",
        "colab": {
          "base_uri": "https://localhost:8080/",
          "height": 35
        },
        "outputId": "522a9508-5f8f-488b-f25a-a34dd96619d5"
      },
      "source": [
        ""
      ],
      "execution_count": null,
      "outputs": [
        {
          "output_type": "execute_result",
          "data": {
            "text/plain": [
              "(4185, 3, 150, 150)"
            ]
          },
          "metadata": {
            "tags": []
          },
          "execution_count": 23
        }
      ]
    },
    {
      "cell_type": "code",
      "metadata": {
        "id": "9WKPLaf2gwbZ",
        "colab_type": "code",
        "colab": {
          "base_uri": "https://localhost:8080/",
          "height": 928
        },
        "outputId": "a4e76bea-b346-4504-e7af-52d97612336c"
      },
      "source": [
        "history = model.fit(X_train, y_train, validation_data = (X_val , y_val) ,callbacks=[lr_reduce,checkpoint] ,\n",
        "          epochs=epochs)"
      ],
      "execution_count": null,
      "outputs": [
        {
          "output_type": "stream",
          "text": [
            "Train on 4185 samples, validate on 1047 samples\n",
            "Epoch 1/10\n",
            "4185/4185 [==============================] - 7s 2ms/step - loss: 0.8684 - acc: 0.6636 - val_loss: 0.6670 - val_acc: 0.7421\n",
            "\n",
            "Epoch 00001: val_acc did not improve from 0.74212\n",
            "Epoch 2/10\n",
            "4185/4185 [==============================] - 5s 1ms/step - loss: 0.4444 - acc: 0.7613 - val_loss: 1.0818 - val_acc: 0.7450\n",
            "\n",
            "Epoch 00002: val_acc improved from 0.74212 to 0.74499, saving model to weights_batchnorm_1.hdf5\n",
            "Epoch 3/10\n",
            "4185/4185 [==============================] - 5s 1ms/step - loss: 0.3650 - acc: 0.8440 - val_loss: 0.8138 - val_acc: 0.2636\n",
            "\n",
            "Epoch 00003: ReduceLROnPlateau reducing learning rate to 0.00010000000474974513.\n",
            "\n",
            "Epoch 00003: val_acc did not improve from 0.74499\n",
            "Epoch 4/10\n",
            "4185/4185 [==============================] - 5s 1ms/step - loss: 0.3036 - acc: 0.8800 - val_loss: 0.2686 - val_acc: 0.9035\n",
            "\n",
            "Epoch 00004: val_acc improved from 0.74499 to 0.90353, saving model to weights_batchnorm_1.hdf5\n",
            "Epoch 5/10\n",
            "4185/4185 [==============================] - 5s 1ms/step - loss: 0.2703 - acc: 0.8913 - val_loss: 0.3295 - val_acc: 0.8472\n",
            "\n",
            "Epoch 00005: ReduceLROnPlateau reducing learning rate to 1.0000000474974514e-05.\n",
            "\n",
            "Epoch 00005: val_acc did not improve from 0.90353\n",
            "Epoch 6/10\n",
            "4185/4185 [==============================] - 5s 1ms/step - loss: 0.2647 - acc: 0.8949 - val_loss: 0.2624 - val_acc: 0.9064\n",
            "\n",
            "Epoch 00006: val_acc improved from 0.90353 to 0.90640, saving model to weights_batchnorm_1.hdf5\n",
            "Epoch 7/10\n",
            "4185/4185 [==============================] - 5s 1ms/step - loss: 0.2541 - acc: 0.9049 - val_loss: 0.2371 - val_acc: 0.9140\n",
            "\n",
            "Epoch 00007: val_acc improved from 0.90640 to 0.91404, saving model to weights_batchnorm_1.hdf5\n",
            "Epoch 8/10\n",
            "4185/4185 [==============================] - 5s 1ms/step - loss: 0.2496 - acc: 0.9023 - val_loss: 0.2347 - val_acc: 0.9121\n",
            "\n",
            "Epoch 00008: ReduceLROnPlateau reducing learning rate to 1.0000000656873453e-06.\n",
            "\n",
            "Epoch 00008: val_acc did not improve from 0.91404\n",
            "Epoch 9/10\n",
            "4185/4185 [==============================] - 5s 1ms/step - loss: 0.2551 - acc: 0.9013 - val_loss: 0.2326 - val_acc: 0.9102\n",
            "\n",
            "Epoch 00009: ReduceLROnPlateau reducing learning rate to 1.0000001111620805e-07.\n",
            "\n",
            "Epoch 00009: val_acc did not improve from 0.91404\n",
            "Epoch 10/10\n",
            "4185/4185 [==============================] - 5s 1ms/step - loss: 0.2507 - acc: 0.9049 - val_loss: 0.2321 - val_acc: 0.9102\n",
            "\n",
            "Epoch 00010: ReduceLROnPlateau reducing learning rate to 1.000000082740371e-08.\n",
            "\n",
            "Epoch 00010: val_acc did not improve from 0.91404\n"
          ],
          "name": "stdout"
        }
      ]
    },
    {
      "cell_type": "code",
      "metadata": {
        "id": "KDkwwy6YgyZg",
        "colab_type": "code",
        "colab": {
          "base_uri": "https://localhost:8080/",
          "height": 573
        },
        "outputId": "061e78fc-769a-4577-87af-ac658a26a797"
      },
      "source": [
        "plt.plot(history.history['acc'])\n",
        "plt.plot(history.history['val_acc'])\n",
        "plt.title('Model accuracy')\n",
        "plt.ylabel('accuracy')\n",
        "plt.xlabel('epoch')\n",
        "plt.legend(['train', 'val'], loc='upper left')\n",
        "plt.show()\n",
        "plt.plot(history.history['loss'])\n",
        "plt.plot(history.history['val_loss'])\n",
        "plt.title('Model loss')\n",
        "plt.ylabel('loss')\n",
        "plt.xlabel('epoch')\n",
        "plt.legend(['train', 'val'], loc='upper left')\n",
        "plt.show()"
      ],
      "execution_count": null,
      "outputs": [
        {
          "output_type": "display_data",
          "data": {
            "image/png": "[encoded data removed]",
            "text/plain": [
              "<Figure size 432x288 with 1 Axes>"
            ]
          },
          "metadata": {
            "tags": [],
            "needs_background": "light"
          }
        },
        {
          "output_type": "display_data",
          "data": {
            "image/png": "[encoded data removed]",
            "text/plain": [
              "<Figure size 432x288 with 1 Axes>"
            ]
          },
          "metadata": {
            "tags": [],
            "needs_background": "light"
          }
        }
      ]
    },
    {
      "cell_type": "code",
      "metadata": {
        "id": "qI1D2irsqBvd",
        "colab_type": "code",
        "colab": {
          "base_uri": "https://localhost:8080/",
          "height": 35
        },
        "outputId": "0d537686-1cf7-489c-b6fc-b23b74165148"
      },
      "source": [
        "y_test.shape"
      ],
      "execution_count": null,
      "outputs": [
        {
          "output_type": "execute_result",
          "data": {
            "text/plain": [
              "(624,)"
            ]
          },
          "metadata": {
            "tags": []
          },
          "execution_count": 38
        }
      ]
    },
    {
      "cell_type": "code",
      "metadata": {
        "id": "3_ao68ABg3Bi",
        "colab_type": "code",
        "colab": {}
      },
      "source": [
        "from sklearn.metrics import confusion_matrix\n",
        "pred = model.predict(X_test)\n",
        "pred = np.argmax(pred,axis = 1) \n",
        "y_true = np.argmax(y_test,axis = 1)"
      ],
      "execution_count": null,
      "outputs": []
    },
    {
      "cell_type": "code",
      "metadata": {
        "id": "BcTEbkyDg64i",
        "colab_type": "code",
        "colab": {
          "base_uri": "https://localhost:8080/",
          "height": 363
        },
        "outputId": "274425f8-5f3b-400a-e150-71d21e43cc49"
      },
      "source": [
        "CM = confusion_matrix(y_true, pred)\n",
        "from mlxtend.plotting import plot_confusion_matrix\n",
        "fig, ax = plot_confusion_matrix(conf_mat=CM ,  figsize=(5, 5))\n",
        "plt.title(\"Confusion Matrix\")\n",
        "plt.show()"
      ],
      "execution_count": null,
      "outputs": [
        {
          "output_type": "display_data",
          "data": {
            "image/png": "[encoded data removed]",
            "text/plain": [
              "<Figure size 360x360 with 1 Axes>"
            ]
          },
          "metadata": {
            "tags": [],
            "needs_background": "light"
          }
        }
      ]
    },
    {
      "cell_type": "code",
      "metadata": {
        "id": "cTuK-POeg8rY",
        "colab_type": "code",
        "colab": {
          "base_uri": "https://localhost:8080/",
          "height": 71
        },
        "outputId": "56f413d9-ea6b-43b7-fd18-e7a95bf389b8"
      },
      "source": [
        "def get_metric(cm):\n",
        "    tn, fp, fn, tp = cm.ravel()\n",
        "    precision = float(tp)/(tp+fp)\n",
        "    recall = float(tp)/(tp+fn)\n",
        "    return precision, recall\n",
        "\n",
        "precision, recall = get_metric(CM)\n",
        "print(\"Recall of the model is {:.2f}\".format(recall))\n",
        "print(\"Precision of the model is {:.2f}\".format(precision))\n",
        "f1_score = 2*(precision*recall)/(precision+recall)\n",
        "print(\"F1 score of the model is {:.2f}\".format(f1_score))"
      ],
      "execution_count": null,
      "outputs": [
        {
          "output_type": "stream",
          "text": [
            "Recall of the model is 0.92\n",
            "Precision of the model is 0.78\n",
            "F1 score of the model is 0.84\n"
          ],
          "name": "stdout"
        }
      ]
    },
    {
      "cell_type": "code",
      "metadata": {
        "id": "WfxaOlXJQSbX",
        "colab_type": "code",
        "colab": {}
      },
      "source": [
        ""
      ],
      "execution_count": null,
      "outputs": []
    }
  ]
}